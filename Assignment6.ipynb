{
 "cells": [
  {
   "cell_type": "code",
   "execution_count": 9,
   "metadata": {},
   "outputs": [
    {
     "name": "stdout",
     "output_type": "stream",
     "text": [
      "\u001b[1mObject-oriented programming\n",
      "        As the name suggests, Object-Oriented Programming or OOPs refers to languages \n",
      "        that uses objects in programming. Object-oriented programming aims to implement real-world entities\n",
      "        like inheritance, hiding, polymorphism etc in programming. The main aim of OOP is to bind together the data \n",
      "        and the functions that operate on them so that no other part of the code can access this data except that function.\n"
     ]
    }
   ],
   "source": [
    "\n",
    "#Question 1:\n",
    "print('\\033[1m'+'Object-oriented programming')\n",
    "        \n",
    "var1 = '''        As the name suggests, Object-Oriented Programming or OOPs refers to languages \n",
    "        that uses objects in programming. Object-oriented programming aims to implement real-world entities\n",
    "        like inheritance, hiding, polymorphism etc in programming. The main aim of OOP is to bind together the data \n",
    "        and the functions that operate on them so that no other part of the code can access this data except that function.'''\n",
    "print(var1)\n",
    "\n",
    "  \n"
   ]
  },
  {
   "cell_type": "code",
   "execution_count": 12,
   "metadata": {},
   "outputs": [
    {
     "name": "stdout",
     "output_type": "stream",
     "text": [
      "Data Re-usability:- “Write a once and use multiple time” we can achieve this by using class. Once We Write a class we can bus \n",
      "it number of time by creating the object for class.\n",
      "Data Redundancy:- Inheritance is the good feature for data redundancy if you need a same functionality in multiple class you can write a common class for the same functionality and inherit that class to sub class.\n",
      "Easy Maintenance:- It is easy to maintain and modify existing code as new objects can be created with small differences to existing ones.\n",
      "Data hiding:- Implementation details are hidden from other modules and other modules has a clearly defined interface.\n",
      "Security:- Using data hiding and abstraction we are providing necessary data only it mean we are maintaining security.\n"
     ]
    }
   ],
   "source": [
    "var1 = '''Data Re-usability:- “Write a once and use multiple time” we can achieve this by using class. Once We Write a class we can bus \n",
    "it number of time by creating the object for class.\n",
    "Data Redundancy:- Inheritance is the good feature for data redundancy if you need a same functionality in multiple class you can write a common class for the same functionality and inherit that class to sub class.\n",
    "Easy Maintenance:- It is easy to maintain and modify existing code as new objects can be created with small differences to existing ones.\n",
    "Data hiding:- Implementation details are hidden from other modules and other modules has a clearly defined interface.\n",
    "Security:- Using data hiding and abstraction we are providing necessary data only it mean we are maintaining security.'''\n",
    "print(var1)"
   ]
  },
  {
   "cell_type": "code",
   "execution_count": 13,
   "metadata": {},
   "outputs": [
    {
     "name": "stdout",
     "output_type": "stream",
     "text": [
      "\u001b[1mPython Method:\n",
      "Method is called by its name, but it is associated to an object (dependent).\n",
      "A method is implicitly passed the object on which it is invoked.\n",
      "It may or may not return any data.\n",
      "A method can operate on the data (instance variables) that is contained by the corresponding class.\n"
     ]
    }
   ],
   "source": [
    "print('\\033[1m'+'Python Method:')\n",
    "var1 = '''Method is called by its name, but it is associated to an object (dependent).\n",
    "A method is implicitly passed the object on which it is invoked.\n",
    "It may or may not return any data.\n",
    "A method can operate on the data (instance variables) that is contained by the corresponding class.'''\n",
    "print(var1)\n"
   ]
  },
  {
   "cell_type": "code",
   "execution_count": 14,
   "metadata": {},
   "outputs": [
    {
     "name": "stdout",
     "output_type": "stream",
     "text": [
      "\n",
      "Classes:\n",
      "It provide a means of bundling data and functionality together. Creating a new class creates a new type of object, allowing new instances of that type to be made. Each class instance can have attributes attached to it for maintaining its state. Class instances can also have methods (defined by its class) for modifying its state.\n",
      "\n",
      "Object:\n",
      "An object is nothing but a self-contained component which consists of methods and properties to make a particular type of data useful. Object determines the behavior of the class. When you send a message to an object, you are asking the object to invoke or execute one of its methods.\n",
      "\n",
      "From a programming point of view, an object can be a data structure, a variable or a function. It has a memory location allocated. The object is designed as class hierarchies.\n",
      "\n",
      "Attributes:\n",
      "In Object-oriented programming(OOP), classes and objects have attributes. Attributes are data stored inside a class or instance and represent the state or quality of the class or instance. In short, attributes store information about the instance. Also, attributes should not be confused with class functions also known as methods. One can think of attributes as noun or adjective, while methods are the verb of the class.\n",
      "\n",
      "Behaviour:\n",
      "A class's behavior determines how an instance of that class operates; for example, how it will \"react\" if asked to do something by another class or object or if its internal state changes. Behavior is the only way objects can do anything to themselves or have anything done to them.\n",
      "\n"
     ]
    }
   ],
   "source": [
    "var1 = '''\n",
    "Classes:\n",
    "It provide a means of bundling data and functionality together. Creating a new class creates a new type of object, allowing new instances of that type to be made. Each class instance can have attributes attached to it for maintaining its state. Class instances can also have methods (defined by its class) for modifying its state.\n",
    "\n",
    "Object:\n",
    "An object is nothing but a self-contained component which consists of methods and properties to make a particular type of data useful. Object determines the behavior of the class. When you send a message to an object, you are asking the object to invoke or execute one of its methods.\n",
    "\n",
    "From a programming point of view, an object can be a data structure, a variable or a function. It has a memory location allocated. The object is designed as class hierarchies.\n",
    "\n",
    "Attributes:\n",
    "In Object-oriented programming(OOP), classes and objects have attributes. Attributes are data stored inside a class or instance and represent the state or quality of the class or instance. In short, attributes store information about the instance. Also, attributes should not be confused with class functions also known as methods. One can think of attributes as noun or adjective, while methods are the verb of the class.\n",
    "\n",
    "Behaviour:\n",
    "A class's behavior determines how an instance of that class operates; for example, how it will \"react\" if asked to do something by another class or object or if its internal state changes. Behavior is the only way objects can do anything to themselves or have anything done to them.\n",
    "'''\n",
    "print(var1)"
   ]
  },
  {
   "cell_type": "code",
   "execution_count": 15,
   "metadata": {},
   "outputs": [
    {
     "name": "stdout",
     "output_type": "stream",
     "text": [
      "Vigo \n",
      " 1997 \n",
      " Black \n",
      " manual as well as \n",
      " Auto\n",
      "\t\t================\n",
      "vigo135 gig \n",
      " 2000 \n",
      " Black \n",
      " manual as well as \n",
      " Auto\n",
      "\t\t================\n",
      "Vigo \n",
      " 1997 \n",
      " Black \n",
      " No auto facility \n",
      " But Manual\n",
      "\t\t================\n",
      "Vigo \n",
      " 1997 \n",
      " Red \n",
      " Auto \n",
      " manual as well as\n",
      "\t\t================\n",
      "Honda city \n",
      " 2015 \n",
      " Dark Blue \n",
      " Auto facilities \n",
      " As well as Manual\n"
     ]
    }
   ],
   "source": [
    "#Question 5\n",
    "#Object Oreanted programming\n",
    "#class with method\n",
    "class car():\n",
    "    #instantiation method\n",
    "    def __init__(self,model,color,name,auto,manual):\n",
    "        #Attributes and attributes names\n",
    "        self.model = model\n",
    "        self.color = color\n",
    "        self.name = name\n",
    "        self.auto = auto\n",
    "        self.manual = manual\n",
    "        # self is a prefix \n",
    "        \n",
    "    def modelname(self,newmodel,newname):\n",
    "        self.model = newmodel\n",
    "        self.name = newname\n",
    "        \n",
    "    def automanual(self,newauto,newmanual):\n",
    "        self.auto = newauto\n",
    "        self.manual = newmanual\n",
    "        \n",
    "    def carcolor(self,newcolor):\n",
    "        self.color = newcolor\n",
    "        \n",
    "        \n",
    "#object instance\n",
    "car1 = car(1997,'Black','Vigo','Auto','manual as well as')\n",
    "print(car1.name,'\\n',car1.model,'\\n',car1.color,'\\n',car1.manual,'\\n',car1.auto)\n",
    "\n",
    "car2 = car(1997,'Black','Vigo','Auto','manual as well as')\n",
    "car2.modelname(2000,'vigo135 gig')\n",
    "print(\"\\t\\t================\")\n",
    "print(car2.name,'\\n',car2.model,'\\n',car2.color,'\\n',car2.manual,'\\n',car2.auto)\n",
    "\n",
    "\n",
    "car3 = car(1997,'Black','Vigo','Auto','manual as well as')\n",
    "car3.automanual('No auto facility','But Manual')\n",
    "print(\"\\t\\t================\")\n",
    "print(car3.name,'\\n',car3.model,'\\n',car3.color,'\\n',car3.auto,'\\n',car3.manual)\n",
    "\n",
    "car4 = car(1997,'Black','Vigo','Auto','manual as well as')\n",
    "car4.carcolor('Red')\n",
    "print(\"\\t\\t================\")\n",
    "print(car4.name,'\\n',car4.model,'\\n',car4.color,'\\n',car4.auto,'\\n',car4.manual)\n",
    "\n",
    "car5 = car(1997,'Black','Vigo','Auto','manual as well as')\n",
    "car5.modelname(2015,'Honda city')\n",
    "car5.automanual('Auto facilities','As well as Manual')\n",
    "car5.carcolor('Dark Blue')\n",
    "print(\"\\t\\t================\")\n",
    "print(car5.name,'\\n',car5.model,'\\n',car5.color,'\\n',car5.auto,'\\n',car5.manual)"
   ]
  },
  {
   "cell_type": "code",
   "execution_count": null,
   "metadata": {},
   "outputs": [],
   "source": []
  }
 ],
 "metadata": {
  "kernelspec": {
   "display_name": "Python 3",
   "language": "python",
   "name": "python3"
  },
  "language_info": {
   "codemirror_mode": {
    "name": "ipython",
    "version": 3
   },
   "file_extension": ".py",
   "mimetype": "text/x-python",
   "name": "python",
   "nbconvert_exporter": "python",
   "pygments_lexer": "ipython3",
   "version": "3.7.4"
  }
 },
 "nbformat": 4,
 "nbformat_minor": 2
}
