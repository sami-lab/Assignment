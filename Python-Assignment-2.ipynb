{
 "cells": [
  {
   "cell_type": "code",
   "execution_count": 37,
   "metadata": {},
   "outputs": [
    {
     "name": "stdout",
     "output_type": "stream",
     "text": [
      "Enter sub1 marks !33\n",
      "Enter sub2 marks !50\n",
      "Enter sub3 marks !70 \n",
      "Enter sub4 marks !90\n",
      "Enter sub5 marks !100\n",
      "you got B grade\n"
     ]
    }
   ],
   "source": [
    "A = int(input (\"Enter sub1 marks !\"))\n",
    "B = int(input (\"Enter sub2 marks !\"))\n",
    "C = int(input (\"Enter sub3 marks !\"))\n",
    "D = int(input (\"Enter sub4 marks !\"))\n",
    "E = int(input (\"Enter sub5 marks !\"))\n",
    "\n",
    "MarksObtained = A + B + C + D + E\n",
    "per = (MarksObtained/500) * 100\n",
    "if per >= 80 and per <= 100:\n",
    "        print(\"you got A+ grade\"  )\n",
    "elif per >=70 and per < 80:\n",
    "        print (\"you got A grade\")\n",
    "elif per >=60 and per < 70:\n",
    "        print (\"you got B grade\")\n",
    "elif per >=50 and per < 60:\n",
    "        print (\"you got C grade\")\n",
    "elif per >=0 and per < 50:\n",
    "        print (\"you are failed\")\n",
    "else :\n",
    "         print (\"you put inappropriate sub marks\")"
   ]
  },
  {
   "cell_type": "code",
   "execution_count": 40,
   "metadata": {},
   "outputs": [
    {
     "name": "stdout",
     "output_type": "stream",
     "text": [
      "Enter any number56\n",
      "number is even\n"
     ]
    }
   ],
   "source": [
    "num = int(input(\"Enter any number\"))\n",
    "if (num % 2 == 0):\n",
    "    print(\"number is even\")\n",
    "else :\n",
    "    print(\"number is odd\")"
   ]
  },
  {
   "cell_type": "code",
   "execution_count": 53,
   "metadata": {},
   "outputs": [
    {
     "name": "stdout",
     "output_type": "stream",
     "text": [
      "5\n"
     ]
    }
   ],
   "source": [
    "list1 = [1,2,3,4,5]\n",
    "count = 0\n",
    "for x in range(len(list1)):\n",
    "  count += 1\n",
    "print (count)"
   ]
  },
  {
   "cell_type": "code",
   "execution_count": 69,
   "metadata": {},
   "outputs": [
    {
     "name": "stdout",
     "output_type": "stream",
     "text": [
      "17\n"
     ]
    }
   ],
   "source": [
    "list1 = [1,2,3,4,5]\n",
    "sum = 0\n",
    "for x in range(len(list1)):\n",
    "    sum = list1[x] + sum\n",
    "print (sum)"
   ]
  },
  {
   "cell_type": "code",
   "execution_count": 76,
   "metadata": {},
   "outputs": [
    {
     "name": "stdout",
     "output_type": "stream",
     "text": [
      "-1\n"
     ]
    }
   ],
   "source": [
    "import sys\n",
    "list1 = [-2,-3,-1,-6]\n",
    "max1 = -sys.maxsize -1\n",
    "for x in range(len(list1)):\n",
    "    if (list1[x] > max1):\n",
    "     max1 = list1[x]\n",
    "print (max1)"
   ]
  },
  {
   "cell_type": "code",
   "execution_count": 80,
   "metadata": {},
   "outputs": [
    {
     "name": "stdout",
     "output_type": "stream",
     "text": [
      "1\n",
      "1\n",
      "2\n",
      "3\n"
     ]
    }
   ],
   "source": [
    "a = [1,1,2,3,5,8,13,21,34,55,89]\n",
    "for x in range (len(a)):\n",
    " if (a[x] < 5):\n",
    "    print (a[x])"
   ]
  },
  {
   "cell_type": "code",
   "execution_count": null,
   "metadata": {},
   "outputs": [],
   "source": []
  }
 ],
 "metadata": {
  "kernelspec": {
   "display_name": "Python 3",
   "language": "python",
   "name": "python3"
  },
  "language_info": {
   "codemirror_mode": {
    "name": "ipython",
    "version": 3
   },
   "file_extension": ".py",
   "mimetype": "text/x-python",
   "name": "python",
   "nbconvert_exporter": "python",
   "pygments_lexer": "ipython3",
   "version": "3.7.4"
  }
 },
 "nbformat": 4,
 "nbformat_minor": 2
}
