{
 "cells": [
  {
   "cell_type": "code",
   "execution_count": 1,
   "metadata": {},
   "outputs": [
    {
     "name": "stdout",
     "output_type": "stream",
     "text": [
      "Enter factorial number : 5\n",
      "Factorial result:  120\n"
     ]
    }
   ],
   "source": [
    "def factorial_cal(fact):\n",
    "    result=1\n",
    "    while fact !=0:\n",
    "        result *=fact\n",
    "        fact = fact-1\n",
    "    \n",
    "    print(\"Factorial result: \",result)\n",
    "\n",
    "facto = int(input(\"Enter factorial number : \"))\n",
    "factorial_cal(facto)\n",
    "    \n",
    "    "
   ]
  },
  {
   "cell_type": "code",
   "execution_count": 3,
   "metadata": {},
   "outputs": [
    {
     "name": "stdout",
     "output_type": "stream",
     "text": [
      "Enter any string :Ammar\n",
      "Your Entered string : Ammar\n",
      "Uppercase letter : 1\n",
      "Lowercase letter : 4\n"
     ]
    }
   ],
   "source": [
    "\n",
    "def cal_str(string):\n",
    "    up_count = 0\n",
    "    low_count = 0\n",
    "    \n",
    "    for a in string:\n",
    "        if a.isupper():\n",
    "            up_count +=1\n",
    "        elif a.islower():\n",
    "            low_count +=1\n",
    "        else:\n",
    "            pass\n",
    "    print(\"Your Entered string :\",string)\n",
    "    print(\"Uppercase letter :\", up_count)\n",
    "    print(\"Lowercase letter :\", low_count)\n",
    "        \n",
    "input_string = input(\"Enter any string :\")\n",
    "cal_str(input_string)\n"
   ]
  },
  {
   "cell_type": "code",
   "execution_count": 5,
   "metadata": {},
   "outputs": [
    {
     "name": "stdout",
     "output_type": "stream",
     "text": [
      "[8, 10, 12, 2, 4, 8]\n"
     ]
    }
   ],
   "source": [
    "\n",
    "\n",
    "def even_num(num):\n",
    "    even =[]\n",
    "    for n in num:\n",
    "        if n % 2 ==0:\n",
    "            even.append(n)\n",
    "    return even\n",
    "\n",
    "list1=[1,5,8,9,10,12,2,4,8,9]\n",
    "print(even_num(list1))\n"
   ]
  },
  {
   "cell_type": "code",
   "execution_count": 6,
   "metadata": {},
   "outputs": [
    {
     "name": "stdout",
     "output_type": "stream",
     "text": [
      "Enter any sentence to check palindrome :amma\n",
      "you Entered Palindrome : amma\n"
     ]
    }
   ],
   "source": [
    "getinput =input(\"Enter any sentence to check palindrome :\")\n",
    "\n",
    "def check(get):\n",
    "    palindrome = (get[::-1])\n",
    "    if get == palindrome:\n",
    "        print(\"you Entered Palindrome :\",palindrome)\n",
    "    else:\n",
    "        print(\"Your Input is not palindrome\")\n",
    "check(getinput)"
   ]
  },
  {
   "cell_type": "code",
   "execution_count": 8,
   "metadata": {},
   "outputs": [
    {
     "name": "stdout",
     "output_type": "stream",
     "text": [
      "Enter Any num :83\n",
      "83 is a prime no\n"
     ]
    }
   ],
   "source": [
    "getinput = int(input(\"Enter Any num :\"))\n",
    "def primefunc(primeno):\n",
    "    prime=0\n",
    "    i=2\n",
    "    while i<primeno:\n",
    "        if primeno % i ==0:\n",
    "            prime = prime +1\n",
    "        i = i+1\n",
    "    if prime>0:\n",
    "        print(str(primeno) + \" \" + \"is not a prime no\")\n",
    "    else:\n",
    "        print(str(primeno) +\" \"+ \"is a prime no\")\n",
    "        \n",
    "\n",
    "primefunc(getinput)"
   ]
  },
  {
   "cell_type": "code",
   "execution_count": 9,
   "metadata": {},
   "outputs": [
    {
     "name": "stdout",
     "output_type": "stream",
     "text": [
      "You selected mango\n",
      "You selected banana\n",
      "You selected Apple\n"
     ]
    }
   ],
   "source": [
    "def shopping_list(*items):\n",
    "    for item in items:\n",
    "        print(\"You selected\",item)\n",
    "\n",
    "shopping_list('mango','banana','Apple')\n",
    "    "
   ]
  },
  {
   "cell_type": "code",
   "execution_count": null,
   "metadata": {},
   "outputs": [],
   "source": []
  }
 ],
 "metadata": {
  "kernelspec": {
   "display_name": "Python 3",
   "language": "python",
   "name": "python3"
  },
  "language_info": {
   "codemirror_mode": {
    "name": "ipython",
    "version": 3
   },
   "file_extension": ".py",
   "mimetype": "text/x-python",
   "name": "python",
   "nbconvert_exporter": "python",
   "pygments_lexer": "ipython3",
   "version": "3.7.4"
  }
 },
 "nbformat": 4,
 "nbformat_minor": 2
}
